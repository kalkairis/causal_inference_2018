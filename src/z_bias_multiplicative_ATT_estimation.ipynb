{
 "cells": [
  {
   "cell_type": "code",
   "execution_count": 1,
   "metadata": {},
   "outputs": [
    {
     "name": "stdout",
     "output_type": "stream",
     "text": [
      "\n",
      "    Data generation - Monte Carlo simulation Simulations\n",
      "        - Additive model\n",
      "        - Multiplicative model\n",
      "\n",
      "\n",
      "    Assumed Causal diagram:\n",
      "        U       -       An unmeasured confounder\n",
      "        Z       -       Instrumental variable\n",
      "        (X,Y)   -       The exposure-outcome pair\n",
      "\n",
      "    Graph structure:\n",
      "        U -> X (alpha1)\n",
      "        U -> Y (beta1)\n",
      "        X -> Y (beta2)\n",
      "        Z -> U (gamma1)\n",
      "        Z -> X (alpha2)\n",
      "\n",
      "    The true \"exposure effect\" and target of estimation is beta2.\n",
      "\n",
      "    For simplicity and to reflect a common study framework, all variables are binary.\n",
      "\n",
      "    The measured covariate Z may act as a confounder or as an instrumental variable for the exposure-outcome pair (X, Y).\n",
      "    Note that Z is not a perfect instrument because it is associated with the unmeasured confounder U through gamma1\n",
      "    However, by varying the value of gamma1, we can explore the impacts of conditioning on Z when it is a perfect instrument and when it is a near-instrument or confounder.\n",
      "    As shown by Pearl (24), bias amplification may result even when the conditioning variable is not a perfect instrument.\n",
      "    Consider relatively large values of gamma1 to compare the risks of adjusting for an IV with the benefits of adjusting for a real confounder.\n",
      "\n",
      "\n"
     ]
    }
   ],
   "source": [
    "import numpy as np\n",
    "import pandas as pd\n",
    "import seaborn as sns\n",
    "import matplotlib.pyplot as plt\n",
    "from auxiliary_methods import *\n",
    "from zbias_data_generation import MonteCarloSimulation"
   ]
  },
  {
   "cell_type": "code",
   "execution_count": 2,
   "metadata": {},
   "outputs": [],
   "source": [
    "max_k = 30"
   ]
  },
  {
   "cell_type": "code",
   "execution_count": 3,
   "metadata": {},
   "outputs": [
    {
     "name": "stdout",
     "output_type": "stream",
     "text": [
      "Start Monte Carlo Simulation .. 2019-03-13 21:00:46.211814\n",
      "Start Additive Simulation .. 2019-03-13 21:00:46.213534\n",
      "Finish Additive Simulation .. 2019-03-13 21:00:46.218516\n",
      "Start Multiplicative Simulation .. 2019-03-13 21:00:46.219022\n",
      "Finish Multiplicative Simulation .. 2019-03-13 21:00:46.227056\n",
      "Finish Monte Carlo Simulation .. 2019-03-13 21:00:46.227200\n"
     ]
    }
   ],
   "source": [
    "M = MonteCarloSimulation(n_simulations=1, dataset_size=10000, random_seed=1976)"
   ]
  },
  {
   "cell_type": "code",
   "execution_count": 4,
   "metadata": {},
   "outputs": [
    {
     "data": {
      "text/plain": [
       "(10000, 3)"
      ]
     },
     "execution_count": 4,
     "metadata": {},
     "output_type": "execute_result"
    }
   ],
   "source": [
    "M.multi_data.shape"
   ]
  },
  {
   "cell_type": "code",
   "execution_count": 5,
   "metadata": {},
   "outputs": [
    {
     "data": {
      "text/html": [
       "<div>\n",
       "<style scoped>\n",
       "    .dataframe tbody tr th:only-of-type {\n",
       "        vertical-align: middle;\n",
       "    }\n",
       "\n",
       "    .dataframe tbody tr th {\n",
       "        vertical-align: top;\n",
       "    }\n",
       "\n",
       "    .dataframe thead th {\n",
       "        text-align: right;\n",
       "    }\n",
       "</style>\n",
       "<table border=\"1\" class=\"dataframe\">\n",
       "  <thead>\n",
       "    <tr style=\"text-align: right;\">\n",
       "      <th></th>\n",
       "      <th>Z</th>\n",
       "      <th>T</th>\n",
       "      <th>Y</th>\n",
       "    </tr>\n",
       "  </thead>\n",
       "  <tbody>\n",
       "    <tr>\n",
       "      <th>0</th>\n",
       "      <td>1</td>\n",
       "      <td>0</td>\n",
       "      <td>0</td>\n",
       "    </tr>\n",
       "    <tr>\n",
       "      <th>1</th>\n",
       "      <td>0</td>\n",
       "      <td>0</td>\n",
       "      <td>0</td>\n",
       "    </tr>\n",
       "    <tr>\n",
       "      <th>2</th>\n",
       "      <td>1</td>\n",
       "      <td>1</td>\n",
       "      <td>0</td>\n",
       "    </tr>\n",
       "    <tr>\n",
       "      <th>3</th>\n",
       "      <td>1</td>\n",
       "      <td>1</td>\n",
       "      <td>0</td>\n",
       "    </tr>\n",
       "    <tr>\n",
       "      <th>4</th>\n",
       "      <td>0</td>\n",
       "      <td>1</td>\n",
       "      <td>0</td>\n",
       "    </tr>\n",
       "  </tbody>\n",
       "</table>\n",
       "</div>"
      ],
      "text/plain": [
       "   Z  T  Y\n",
       "0  1  0  0\n",
       "1  0  0  0\n",
       "2  1  1  0\n",
       "3  1  1  0\n",
       "4  0  1  0"
      ]
     },
     "execution_count": 5,
     "metadata": {},
     "output_type": "execute_result"
    }
   ],
   "source": [
    "df = M.multi_data\n",
    "df.head()"
   ]
  },
  {
   "cell_type": "markdown",
   "metadata": {},
   "source": [
    "# Baseline evaluations"
   ]
  },
  {
   "cell_type": "code",
   "execution_count": 6,
   "metadata": {},
   "outputs": [
    {
     "data": {
      "text/plain": [
       "-0.1467831119444345"
      ]
     },
     "execution_count": 6,
     "metadata": {},
     "output_type": "execute_result"
    }
   ],
   "source": [
    "IPW = calc_inv_propensity_score_weighting(df)\n",
    "IPW"
   ]
  },
  {
   "cell_type": "code",
   "execution_count": 7,
   "metadata": {},
   "outputs": [
    {
     "data": {
      "text/plain": [
       "0.0411240575736806"
      ]
     },
     "execution_count": 7,
     "metadata": {},
     "output_type": "execute_result"
    }
   ],
   "source": [
    "baseline_euclidean = calc_matching(df, dist_func='euclidean', k=range(1, max_k+1))\n",
    "baseline_euclidean[0]"
   ]
  },
  {
   "cell_type": "code",
   "execution_count": 8,
   "metadata": {},
   "outputs": [
    {
     "data": {
      "text/plain": [
       "0.0411240575736806"
      ]
     },
     "execution_count": 8,
     "metadata": {},
     "output_type": "execute_result"
    }
   ],
   "source": [
    "baseline_mahalanobis = calc_matching(df, dist_func='mahalanobis', k=range(1,max_k+1))\n",
    "baseline_mahalanobis[0]"
   ]
  },
  {
   "cell_type": "markdown",
   "metadata": {},
   "source": [
    "# Evaluations from treatment predictions"
   ]
  },
  {
   "cell_type": "code",
   "execution_count": 9,
   "metadata": {},
   "outputs": [
    {
     "data": {
      "text/plain": [
       "0.0411240575736806"
      ]
     },
     "execution_count": 9,
     "metadata": {},
     "output_type": "execute_result"
    }
   ],
   "source": [
    "model_t_euclidean = calc_model_t_shap_matching(df, dist_func='euclidean', k=range(1,max_k+1))\n",
    "model_t_euclidean[0]"
   ]
  },
  {
   "cell_type": "code",
   "execution_count": 10,
   "metadata": {},
   "outputs": [
    {
     "data": {
      "text/plain": [
       "0.0411240575736806"
      ]
     },
     "execution_count": 10,
     "metadata": {},
     "output_type": "execute_result"
    }
   ],
   "source": [
    "model_t_mahalanobis = calc_model_t_shap_matching(df, dist_func='mahalanobis', k=range(1,max_k+1))\n",
    "model_t_mahalanobis[0]"
   ]
  },
  {
   "cell_type": "markdown",
   "metadata": {},
   "source": [
    "# Evaluation from outcome predictions"
   ]
  },
  {
   "cell_type": "code",
   "execution_count": 11,
   "metadata": {},
   "outputs": [
    {
     "data": {
      "text/plain": [
       "0.0411240575736806"
      ]
     },
     "execution_count": 11,
     "metadata": {},
     "output_type": "execute_result"
    }
   ],
   "source": [
    "model_y_euclidean = calc_model_y_shap_matching(df, dist_func='euclidean', k=range(1,max_k+1))\n",
    "model_y_euclidean[0]"
   ]
  },
  {
   "cell_type": "code",
   "execution_count": 12,
   "metadata": {},
   "outputs": [
    {
     "data": {
      "text/plain": [
       "0.0411240575736806"
      ]
     },
     "execution_count": 12,
     "metadata": {},
     "output_type": "execute_result"
    }
   ],
   "source": [
    "model_y_mahalanobis = calc_model_y_shap_matching(df, dist_func='mahalanobis', k=range(1,max_k+1))\n",
    "model_y_mahalanobis[0]"
   ]
  },
  {
   "cell_type": "markdown",
   "metadata": {},
   "source": [
    "# Evaluation from outcome and treatment predictions"
   ]
  },
  {
   "cell_type": "code",
   "execution_count": 13,
   "metadata": {},
   "outputs": [
    {
     "data": {
      "text/plain": [
       "0.0411240575736806"
      ]
     },
     "execution_count": 13,
     "metadata": {},
     "output_type": "execute_result"
    }
   ],
   "source": [
    "model_y_model_t_euclidean = calc_model_y_and_model_t_shap_matching(\n",
    "    df, combining_method='ratio', dist_func='euclidean', k=range(1,max_k+1))\n",
    "model_y_model_t_euclidean[0]"
   ]
  },
  {
   "cell_type": "code",
   "execution_count": 14,
   "metadata": {},
   "outputs": [
    {
     "data": {
      "text/plain": [
       "0.0411240575736806"
      ]
     },
     "execution_count": 14,
     "metadata": {},
     "output_type": "execute_result"
    }
   ],
   "source": [
    "model_y_model_t_mahalanobis = calc_model_y_and_model_t_shap_matching(\n",
    "    df, combining_method='ratio', dist_func='mahalanobis', k=range(1,max_k+1))\n",
    "model_y_model_t_mahalanobis[0]"
   ]
  },
  {
   "cell_type": "markdown",
   "metadata": {},
   "source": [
    "# Save all joint values"
   ]
  },
  {
   "cell_type": "code",
   "execution_count": 15,
   "metadata": {},
   "outputs": [
    {
     "data": {
      "text/html": [
       "<div>\n",
       "<style scoped>\n",
       "    .dataframe tbody tr th:only-of-type {\n",
       "        vertical-align: middle;\n",
       "    }\n",
       "\n",
       "    .dataframe tbody tr th {\n",
       "        vertical-align: top;\n",
       "    }\n",
       "\n",
       "    .dataframe thead th {\n",
       "        text-align: right;\n",
       "    }\n",
       "</style>\n",
       "<table border=\"1\" class=\"dataframe\">\n",
       "  <thead>\n",
       "    <tr style=\"text-align: right;\">\n",
       "      <th></th>\n",
       "      <th>k</th>\n",
       "      <th>baseline_euclidean</th>\n",
       "      <th>baseline_mahalanobis</th>\n",
       "      <th>model_t_euclidean</th>\n",
       "      <th>model_t_mahalanobis</th>\n",
       "      <th>model_y_euclidean</th>\n",
       "      <th>model_y_mahalanobis</th>\n",
       "      <th>model_y_model_t_euclidean</th>\n",
       "      <th>model_y_model_t_mahalanobis</th>\n",
       "    </tr>\n",
       "  </thead>\n",
       "  <tbody>\n",
       "    <tr>\n",
       "      <th>0</th>\n",
       "      <td>1</td>\n",
       "      <td>0.041124</td>\n",
       "      <td>0.041124</td>\n",
       "      <td>0.041124</td>\n",
       "      <td>0.041124</td>\n",
       "      <td>0.041124</td>\n",
       "      <td>0.041124</td>\n",
       "      <td>0.041124</td>\n",
       "      <td>0.041124</td>\n",
       "    </tr>\n",
       "    <tr>\n",
       "      <th>1</th>\n",
       "      <td>2</td>\n",
       "      <td>-0.054489</td>\n",
       "      <td>-0.054489</td>\n",
       "      <td>-0.054489</td>\n",
       "      <td>-0.054489</td>\n",
       "      <td>-0.054489</td>\n",
       "      <td>-0.054489</td>\n",
       "      <td>-0.458876</td>\n",
       "      <td>-0.458876</td>\n",
       "    </tr>\n",
       "    <tr>\n",
       "      <th>2</th>\n",
       "      <td>3</td>\n",
       "      <td>-0.022618</td>\n",
       "      <td>-0.022618</td>\n",
       "      <td>-0.022618</td>\n",
       "      <td>-0.022618</td>\n",
       "      <td>-0.022618</td>\n",
       "      <td>-0.022618</td>\n",
       "      <td>-0.292209</td>\n",
       "      <td>-0.292209</td>\n",
       "    </tr>\n",
       "    <tr>\n",
       "      <th>3</th>\n",
       "      <td>4</td>\n",
       "      <td>-0.006683</td>\n",
       "      <td>-0.006683</td>\n",
       "      <td>-0.006683</td>\n",
       "      <td>-0.006683</td>\n",
       "      <td>-0.006683</td>\n",
       "      <td>-0.006683</td>\n",
       "      <td>-0.208876</td>\n",
       "      <td>-0.208876</td>\n",
       "    </tr>\n",
       "    <tr>\n",
       "      <th>4</th>\n",
       "      <td>5</td>\n",
       "      <td>0.002879</td>\n",
       "      <td>0.002879</td>\n",
       "      <td>0.002879</td>\n",
       "      <td>0.002879</td>\n",
       "      <td>0.002879</td>\n",
       "      <td>0.002879</td>\n",
       "      <td>-0.158876</td>\n",
       "      <td>-0.158876</td>\n",
       "    </tr>\n",
       "    <tr>\n",
       "      <th>5</th>\n",
       "      <td>6</td>\n",
       "      <td>0.009253</td>\n",
       "      <td>0.009253</td>\n",
       "      <td>0.009253</td>\n",
       "      <td>0.009253</td>\n",
       "      <td>0.009253</td>\n",
       "      <td>0.009253</td>\n",
       "      <td>-0.125543</td>\n",
       "      <td>-0.125543</td>\n",
       "    </tr>\n",
       "    <tr>\n",
       "      <th>6</th>\n",
       "      <td>7</td>\n",
       "      <td>0.013806</td>\n",
       "      <td>0.013806</td>\n",
       "      <td>0.013806</td>\n",
       "      <td>0.013806</td>\n",
       "      <td>0.013806</td>\n",
       "      <td>0.013806</td>\n",
       "      <td>-0.101733</td>\n",
       "      <td>-0.101733</td>\n",
       "    </tr>\n",
       "    <tr>\n",
       "      <th>7</th>\n",
       "      <td>8</td>\n",
       "      <td>0.017221</td>\n",
       "      <td>0.017221</td>\n",
       "      <td>0.017221</td>\n",
       "      <td>0.017221</td>\n",
       "      <td>0.017221</td>\n",
       "      <td>0.017221</td>\n",
       "      <td>-0.083876</td>\n",
       "      <td>-0.083876</td>\n",
       "    </tr>\n",
       "    <tr>\n",
       "      <th>8</th>\n",
       "      <td>9</td>\n",
       "      <td>-0.069987</td>\n",
       "      <td>-0.069987</td>\n",
       "      <td>-0.069987</td>\n",
       "      <td>-0.069987</td>\n",
       "      <td>-0.069987</td>\n",
       "      <td>-0.069987</td>\n",
       "      <td>-0.069987</td>\n",
       "      <td>-0.069987</td>\n",
       "    </tr>\n",
       "    <tr>\n",
       "      <th>9</th>\n",
       "      <td>10</td>\n",
       "      <td>-0.077999</td>\n",
       "      <td>-0.077999</td>\n",
       "      <td>-0.077999</td>\n",
       "      <td>-0.077999</td>\n",
       "      <td>-0.077999</td>\n",
       "      <td>-0.077999</td>\n",
       "      <td>-0.158876</td>\n",
       "      <td>-0.158876</td>\n",
       "    </tr>\n",
       "    <tr>\n",
       "      <th>10</th>\n",
       "      <td>11</td>\n",
       "      <td>-0.084554</td>\n",
       "      <td>-0.084554</td>\n",
       "      <td>-0.084554</td>\n",
       "      <td>-0.084554</td>\n",
       "      <td>-0.084554</td>\n",
       "      <td>-0.084554</td>\n",
       "      <td>-0.231603</td>\n",
       "      <td>-0.231603</td>\n",
       "    </tr>\n",
       "    <tr>\n",
       "      <th>11</th>\n",
       "      <td>12</td>\n",
       "      <td>-0.074080</td>\n",
       "      <td>-0.074080</td>\n",
       "      <td>-0.074080</td>\n",
       "      <td>-0.074080</td>\n",
       "      <td>-0.074080</td>\n",
       "      <td>-0.074080</td>\n",
       "      <td>-0.208876</td>\n",
       "      <td>-0.208876</td>\n",
       "    </tr>\n",
       "    <tr>\n",
       "      <th>12</th>\n",
       "      <td>13</td>\n",
       "      <td>-0.065219</td>\n",
       "      <td>-0.065219</td>\n",
       "      <td>-0.065219</td>\n",
       "      <td>-0.065219</td>\n",
       "      <td>-0.065219</td>\n",
       "      <td>-0.065219</td>\n",
       "      <td>-0.189645</td>\n",
       "      <td>-0.189645</td>\n",
       "    </tr>\n",
       "    <tr>\n",
       "      <th>13</th>\n",
       "      <td>14</td>\n",
       "      <td>-0.115392</td>\n",
       "      <td>-0.115392</td>\n",
       "      <td>-0.115392</td>\n",
       "      <td>-0.115392</td>\n",
       "      <td>-0.115392</td>\n",
       "      <td>-0.115392</td>\n",
       "      <td>-0.173162</td>\n",
       "      <td>-0.173162</td>\n",
       "    </tr>\n",
       "    <tr>\n",
       "      <th>14</th>\n",
       "      <td>15</td>\n",
       "      <td>-0.104958</td>\n",
       "      <td>-0.104958</td>\n",
       "      <td>-0.104958</td>\n",
       "      <td>-0.104958</td>\n",
       "      <td>-0.104958</td>\n",
       "      <td>-0.104958</td>\n",
       "      <td>-0.158876</td>\n",
       "      <td>-0.158876</td>\n",
       "    </tr>\n",
       "    <tr>\n",
       "      <th>15</th>\n",
       "      <td>16</td>\n",
       "      <td>-0.107779</td>\n",
       "      <td>-0.107779</td>\n",
       "      <td>-0.107779</td>\n",
       "      <td>-0.107779</td>\n",
       "      <td>-0.107779</td>\n",
       "      <td>-0.107779</td>\n",
       "      <td>-0.208876</td>\n",
       "      <td>-0.208876</td>\n",
       "    </tr>\n",
       "    <tr>\n",
       "      <th>16</th>\n",
       "      <td>17</td>\n",
       "      <td>-0.110269</td>\n",
       "      <td>-0.110269</td>\n",
       "      <td>-0.110269</td>\n",
       "      <td>-0.110269</td>\n",
       "      <td>-0.110269</td>\n",
       "      <td>-0.110269</td>\n",
       "      <td>-0.252994</td>\n",
       "      <td>-0.252994</td>\n",
       "    </tr>\n",
       "    <tr>\n",
       "      <th>17</th>\n",
       "      <td>18</td>\n",
       "      <td>-0.112482</td>\n",
       "      <td>-0.112482</td>\n",
       "      <td>-0.112482</td>\n",
       "      <td>-0.112482</td>\n",
       "      <td>-0.112482</td>\n",
       "      <td>-0.112482</td>\n",
       "      <td>-0.292209</td>\n",
       "      <td>-0.292209</td>\n",
       "    </tr>\n",
       "    <tr>\n",
       "      <th>18</th>\n",
       "      <td>19</td>\n",
       "      <td>-0.104397</td>\n",
       "      <td>-0.104397</td>\n",
       "      <td>-0.104397</td>\n",
       "      <td>-0.104397</td>\n",
       "      <td>-0.104397</td>\n",
       "      <td>-0.104397</td>\n",
       "      <td>-0.274665</td>\n",
       "      <td>-0.274665</td>\n",
       "    </tr>\n",
       "    <tr>\n",
       "      <th>19</th>\n",
       "      <td>20</td>\n",
       "      <td>-0.097121</td>\n",
       "      <td>-0.097121</td>\n",
       "      <td>-0.097121</td>\n",
       "      <td>-0.097121</td>\n",
       "      <td>-0.097121</td>\n",
       "      <td>-0.097121</td>\n",
       "      <td>-0.258876</td>\n",
       "      <td>-0.258876</td>\n",
       "    </tr>\n",
       "    <tr>\n",
       "      <th>20</th>\n",
       "      <td>21</td>\n",
       "      <td>-0.090538</td>\n",
       "      <td>-0.090538</td>\n",
       "      <td>-0.090538</td>\n",
       "      <td>-0.090538</td>\n",
       "      <td>-0.090538</td>\n",
       "      <td>-0.090538</td>\n",
       "      <td>-0.244590</td>\n",
       "      <td>-0.244590</td>\n",
       "    </tr>\n",
       "    <tr>\n",
       "      <th>21</th>\n",
       "      <td>22</td>\n",
       "      <td>-0.130008</td>\n",
       "      <td>-0.130008</td>\n",
       "      <td>-0.130008</td>\n",
       "      <td>-0.130008</td>\n",
       "      <td>-0.130008</td>\n",
       "      <td>-0.130008</td>\n",
       "      <td>-0.277058</td>\n",
       "      <td>-0.277058</td>\n",
       "    </tr>\n",
       "    <tr>\n",
       "      <th>22</th>\n",
       "      <td>23</td>\n",
       "      <td>-0.122568</td>\n",
       "      <td>-0.122568</td>\n",
       "      <td>-0.122568</td>\n",
       "      <td>-0.122568</td>\n",
       "      <td>-0.122568</td>\n",
       "      <td>-0.122568</td>\n",
       "      <td>-0.263224</td>\n",
       "      <td>-0.263224</td>\n",
       "    </tr>\n",
       "    <tr>\n",
       "      <th>23</th>\n",
       "      <td>24</td>\n",
       "      <td>-0.115747</td>\n",
       "      <td>-0.115747</td>\n",
       "      <td>-0.115747</td>\n",
       "      <td>-0.115747</td>\n",
       "      <td>-0.115747</td>\n",
       "      <td>-0.115747</td>\n",
       "      <td>-0.250543</td>\n",
       "      <td>-0.250543</td>\n",
       "    </tr>\n",
       "    <tr>\n",
       "      <th>24</th>\n",
       "      <td>25</td>\n",
       "      <td>-0.109472</td>\n",
       "      <td>-0.109472</td>\n",
       "      <td>-0.109472</td>\n",
       "      <td>-0.109472</td>\n",
       "      <td>-0.109472</td>\n",
       "      <td>-0.109472</td>\n",
       "      <td>-0.238876</td>\n",
       "      <td>-0.238876</td>\n",
       "    </tr>\n",
       "    <tr>\n",
       "      <th>25</th>\n",
       "      <td>26</td>\n",
       "      <td>-0.103680</td>\n",
       "      <td>-0.103680</td>\n",
       "      <td>-0.103680</td>\n",
       "      <td>-0.103680</td>\n",
       "      <td>-0.103680</td>\n",
       "      <td>-0.103680</td>\n",
       "      <td>-0.228107</td>\n",
       "      <td>-0.228107</td>\n",
       "    </tr>\n",
       "    <tr>\n",
       "      <th>26</th>\n",
       "      <td>27</td>\n",
       "      <td>-0.098317</td>\n",
       "      <td>-0.098317</td>\n",
       "      <td>-0.098317</td>\n",
       "      <td>-0.098317</td>\n",
       "      <td>-0.098317</td>\n",
       "      <td>-0.098317</td>\n",
       "      <td>-0.218135</td>\n",
       "      <td>-0.218135</td>\n",
       "    </tr>\n",
       "    <tr>\n",
       "      <th>27</th>\n",
       "      <td>28</td>\n",
       "      <td>-0.100166</td>\n",
       "      <td>-0.100166</td>\n",
       "      <td>-0.100166</td>\n",
       "      <td>-0.100166</td>\n",
       "      <td>-0.100166</td>\n",
       "      <td>-0.100166</td>\n",
       "      <td>-0.244590</td>\n",
       "      <td>-0.244590</td>\n",
       "    </tr>\n",
       "    <tr>\n",
       "      <th>28</th>\n",
       "      <td>29</td>\n",
       "      <td>-0.095294</td>\n",
       "      <td>-0.095294</td>\n",
       "      <td>-0.095294</td>\n",
       "      <td>-0.095294</td>\n",
       "      <td>-0.095294</td>\n",
       "      <td>-0.095294</td>\n",
       "      <td>-0.234738</td>\n",
       "      <td>-0.234738</td>\n",
       "    </tr>\n",
       "    <tr>\n",
       "      <th>29</th>\n",
       "      <td>30</td>\n",
       "      <td>-0.117706</td>\n",
       "      <td>-0.117706</td>\n",
       "      <td>-0.117706</td>\n",
       "      <td>-0.117706</td>\n",
       "      <td>-0.117706</td>\n",
       "      <td>-0.117706</td>\n",
       "      <td>-0.225543</td>\n",
       "      <td>-0.225543</td>\n",
       "    </tr>\n",
       "  </tbody>\n",
       "</table>\n",
       "</div>"
      ],
      "text/plain": [
       "     k  baseline_euclidean  baseline_mahalanobis  model_t_euclidean  \\\n",
       "0    1            0.041124              0.041124           0.041124   \n",
       "1    2           -0.054489             -0.054489          -0.054489   \n",
       "2    3           -0.022618             -0.022618          -0.022618   \n",
       "3    4           -0.006683             -0.006683          -0.006683   \n",
       "4    5            0.002879              0.002879           0.002879   \n",
       "5    6            0.009253              0.009253           0.009253   \n",
       "6    7            0.013806              0.013806           0.013806   \n",
       "7    8            0.017221              0.017221           0.017221   \n",
       "8    9           -0.069987             -0.069987          -0.069987   \n",
       "9   10           -0.077999             -0.077999          -0.077999   \n",
       "10  11           -0.084554             -0.084554          -0.084554   \n",
       "11  12           -0.074080             -0.074080          -0.074080   \n",
       "12  13           -0.065219             -0.065219          -0.065219   \n",
       "13  14           -0.115392             -0.115392          -0.115392   \n",
       "14  15           -0.104958             -0.104958          -0.104958   \n",
       "15  16           -0.107779             -0.107779          -0.107779   \n",
       "16  17           -0.110269             -0.110269          -0.110269   \n",
       "17  18           -0.112482             -0.112482          -0.112482   \n",
       "18  19           -0.104397             -0.104397          -0.104397   \n",
       "19  20           -0.097121             -0.097121          -0.097121   \n",
       "20  21           -0.090538             -0.090538          -0.090538   \n",
       "21  22           -0.130008             -0.130008          -0.130008   \n",
       "22  23           -0.122568             -0.122568          -0.122568   \n",
       "23  24           -0.115747             -0.115747          -0.115747   \n",
       "24  25           -0.109472             -0.109472          -0.109472   \n",
       "25  26           -0.103680             -0.103680          -0.103680   \n",
       "26  27           -0.098317             -0.098317          -0.098317   \n",
       "27  28           -0.100166             -0.100166          -0.100166   \n",
       "28  29           -0.095294             -0.095294          -0.095294   \n",
       "29  30           -0.117706             -0.117706          -0.117706   \n",
       "\n",
       "    model_t_mahalanobis  model_y_euclidean  model_y_mahalanobis  \\\n",
       "0              0.041124           0.041124             0.041124   \n",
       "1             -0.054489          -0.054489            -0.054489   \n",
       "2             -0.022618          -0.022618            -0.022618   \n",
       "3             -0.006683          -0.006683            -0.006683   \n",
       "4              0.002879           0.002879             0.002879   \n",
       "5              0.009253           0.009253             0.009253   \n",
       "6              0.013806           0.013806             0.013806   \n",
       "7              0.017221           0.017221             0.017221   \n",
       "8             -0.069987          -0.069987            -0.069987   \n",
       "9             -0.077999          -0.077999            -0.077999   \n",
       "10            -0.084554          -0.084554            -0.084554   \n",
       "11            -0.074080          -0.074080            -0.074080   \n",
       "12            -0.065219          -0.065219            -0.065219   \n",
       "13            -0.115392          -0.115392            -0.115392   \n",
       "14            -0.104958          -0.104958            -0.104958   \n",
       "15            -0.107779          -0.107779            -0.107779   \n",
       "16            -0.110269          -0.110269            -0.110269   \n",
       "17            -0.112482          -0.112482            -0.112482   \n",
       "18            -0.104397          -0.104397            -0.104397   \n",
       "19            -0.097121          -0.097121            -0.097121   \n",
       "20            -0.090538          -0.090538            -0.090538   \n",
       "21            -0.130008          -0.130008            -0.130008   \n",
       "22            -0.122568          -0.122568            -0.122568   \n",
       "23            -0.115747          -0.115747            -0.115747   \n",
       "24            -0.109472          -0.109472            -0.109472   \n",
       "25            -0.103680          -0.103680            -0.103680   \n",
       "26            -0.098317          -0.098317            -0.098317   \n",
       "27            -0.100166          -0.100166            -0.100166   \n",
       "28            -0.095294          -0.095294            -0.095294   \n",
       "29            -0.117706          -0.117706            -0.117706   \n",
       "\n",
       "    model_y_model_t_euclidean  model_y_model_t_mahalanobis  \n",
       "0                    0.041124                     0.041124  \n",
       "1                   -0.458876                    -0.458876  \n",
       "2                   -0.292209                    -0.292209  \n",
       "3                   -0.208876                    -0.208876  \n",
       "4                   -0.158876                    -0.158876  \n",
       "5                   -0.125543                    -0.125543  \n",
       "6                   -0.101733                    -0.101733  \n",
       "7                   -0.083876                    -0.083876  \n",
       "8                   -0.069987                    -0.069987  \n",
       "9                   -0.158876                    -0.158876  \n",
       "10                  -0.231603                    -0.231603  \n",
       "11                  -0.208876                    -0.208876  \n",
       "12                  -0.189645                    -0.189645  \n",
       "13                  -0.173162                    -0.173162  \n",
       "14                  -0.158876                    -0.158876  \n",
       "15                  -0.208876                    -0.208876  \n",
       "16                  -0.252994                    -0.252994  \n",
       "17                  -0.292209                    -0.292209  \n",
       "18                  -0.274665                    -0.274665  \n",
       "19                  -0.258876                    -0.258876  \n",
       "20                  -0.244590                    -0.244590  \n",
       "21                  -0.277058                    -0.277058  \n",
       "22                  -0.263224                    -0.263224  \n",
       "23                  -0.250543                    -0.250543  \n",
       "24                  -0.238876                    -0.238876  \n",
       "25                  -0.228107                    -0.228107  \n",
       "26                  -0.218135                    -0.218135  \n",
       "27                  -0.244590                    -0.244590  \n",
       "28                  -0.234738                    -0.234738  \n",
       "29                  -0.225543                    -0.225543  "
      ]
     },
     "execution_count": 15,
     "metadata": {},
     "output_type": "execute_result"
    }
   ],
   "source": [
    "joint_values = pd.DataFrame({'k':range(1, max_k+1), \n",
    "                            'baseline_euclidean':baseline_euclidean, \n",
    "                            'baseline_mahalanobis':baseline_mahalanobis, \n",
    "                            'model_t_euclidean':model_t_euclidean, \n",
    "                            'model_t_mahalanobis':model_t_mahalanobis, \n",
    "                            'model_y_euclidean':model_y_euclidean, \n",
    "                            'model_y_mahalanobis':model_y_mahalanobis, \n",
    "                            'model_y_model_t_euclidean':model_y_model_t_euclidean, \n",
    "                            'model_y_model_t_mahalanobis':model_y_model_t_mahalanobis\n",
    "                           })\n",
    "joint_values.head(30)"
   ]
  },
  {
   "cell_type": "code",
   "execution_count": 16,
   "metadata": {},
   "outputs": [],
   "source": [
    "joint_values.to_csv('../Data/z_bias_multiplicative_outputs.csv')"
   ]
  },
  {
   "cell_type": "code",
   "execution_count": 17,
   "metadata": {},
   "outputs": [],
   "source": [
    "joint_values = pd.read_csv('../Data/z_bias_multiplicative_outputs.csv', index_col=0)"
   ]
  },
  {
   "cell_type": "markdown",
   "metadata": {},
   "source": [
    "# Plot the joint values"
   ]
  },
  {
   "cell_type": "code",
   "execution_count": 18,
   "metadata": {},
   "outputs": [
    {
     "data": {
      "text/plain": [
       "Index(['baseline_euclidean', 'baseline_mahalanobis', 'model_t_euclidean',\n",
       "       'model_t_mahalanobis', 'model_y_euclidean', 'model_y_mahalanobis',\n",
       "       'model_y_model_t_euclidean', 'model_y_model_t_mahalanobis'],\n",
       "      dtype='object')"
      ]
     },
     "execution_count": 18,
     "metadata": {},
     "output_type": "execute_result"
    }
   ],
   "source": [
    "joint_values.columns[1:]"
   ]
  },
  {
   "cell_type": "code",
   "execution_count": 19,
   "metadata": {},
   "outputs": [
    {
     "data": {
      "text/plain": [
       "(240, 4)"
      ]
     },
     "execution_count": 19,
     "metadata": {},
     "output_type": "execute_result"
    }
   ],
   "source": [
    "long_values = pd.DataFrame(columns=['num_neighbors', 'model_type', 'distance', 'ATT value'])\n",
    "for model_type in ['baseline', 'model_t', 'model_y', 'model_y_model_t']:\n",
    "    for distance in ['euclidean', 'mahalanobis']:\n",
    "        long_values = pd.concat([long_values, \n",
    "                                 pd.DataFrame({'num_neighbors':joint_values.k, \n",
    "                                               'model_type':model_type, \n",
    "                                               'distance':distance, \n",
    "                                               'ATT value':joint_values['_'.join([model_type, distance])]})])\n",
    "long_values.shape"
   ]
  },
  {
   "cell_type": "code",
   "execution_count": 20,
   "metadata": {},
   "outputs": [
    {
     "data": {
      "image/png": "[encoded data removed]",
      "text/plain": [
       "<Figure size 720x576 with 1 Axes>"
      ]
     },
     "metadata": {},
     "output_type": "display_data"
    }
   ],
   "source": [
    "plt.figure(figsize=(10, 8))\n",
    "ax = sns.lineplot(data=long_values, x='num_neighbors', y='ATT value', hue='model_type', style='distance')\n",
    "plt.hlines(0.2, 0, joint_values.k.max(), label=\"True ATT\")\n",
    "plt.hlines(IPW, 0, joint_values.k.max(), colors=['purple'], label=\"IPW\")\n",
    "plt.legend(bbox_to_anchor=(1.05, 1), loc=2, borderaxespad=0.)\n",
    "plt.savefig('../Paper/images/z_bias_multiplicative_ATT_estimations_by_k_neighbors.jpg')\n",
    "plt.show()"
   ]
  },
  {
   "cell_type": "code",
   "execution_count": null,
   "metadata": {},
   "outputs": [],
   "source": []
  }
 ],
 "metadata": {
  "kernelspec": {
   "display_name": "Python 3",
   "language": "python",
   "name": "python3"
  },
  "language_info": {
   "codemirror_mode": {
    "name": "ipython",
    "version": 3
   },
   "file_extension": ".py",
   "mimetype": "text/x-python",
   "name": "python",
   "nbconvert_exporter": "python",
   "pygments_lexer": "ipython3",
   "version": "3.6.8"
  }
 },
 "nbformat": 4,
 "nbformat_minor": 2
}
