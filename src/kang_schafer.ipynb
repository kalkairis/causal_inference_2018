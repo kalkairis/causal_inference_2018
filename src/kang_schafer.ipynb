{
 "cells": [
  {
   "cell_type": "code",
   "execution_count": null,
   "metadata": {},
   "outputs": [],
   "source": [
    "from auxiliary_methods import *\n",
    "from simulation_functions import kang_shafer_data\n",
    "import numpy as np\n",
    "import pandas as pd"
   ]
  },
  {
   "cell_type": "code",
   "execution_count": 3,
   "metadata": {
    "scrolled": true
   },
   "outputs": [
    {
     "data": {
      "text/html": [
       "<div>\n",
       "<style scoped>\n",
       "    .dataframe tbody tr th:only-of-type {\n",
       "        vertical-align: middle;\n",
       "    }\n",
       "\n",
       "    .dataframe tbody tr th {\n",
       "        vertical-align: top;\n",
       "    }\n",
       "\n",
       "    .dataframe thead th {\n",
       "        text-align: right;\n",
       "    }\n",
       "</style>\n",
       "<table border=\"1\" class=\"dataframe\">\n",
       "  <thead>\n",
       "    <tr style=\"text-align: right;\">\n",
       "      <th></th>\n",
       "      <th>x1</th>\n",
       "      <th>x2</th>\n",
       "      <th>x3</th>\n",
       "      <th>x4</th>\n",
       "      <th>T</th>\n",
       "      <th>Y</th>\n",
       "    </tr>\n",
       "  </thead>\n",
       "  <tbody>\n",
       "    <tr>\n",
       "      <th>0</th>\n",
       "      <td>1.764052</td>\n",
       "      <td>-0.202117</td>\n",
       "      <td>0.330046</td>\n",
       "      <td>0.371232</td>\n",
       "      <td>0</td>\n",
       "      <td>265.794553</td>\n",
       "    </tr>\n",
       "    <tr>\n",
       "      <th>1</th>\n",
       "      <td>0.400157</td>\n",
       "      <td>-0.833231</td>\n",
       "      <td>-0.000480</td>\n",
       "      <td>0.304784</td>\n",
       "      <td>0</td>\n",
       "      <td>214.898689</td>\n",
       "    </tr>\n",
       "    <tr>\n",
       "      <th>2</th>\n",
       "      <td>0.978738</td>\n",
       "      <td>1.733600</td>\n",
       "      <td>0.818116</td>\n",
       "      <td>0.504125</td>\n",
       "      <td>1</td>\n",
       "      <td>279.221875</td>\n",
       "    </tr>\n",
       "    <tr>\n",
       "      <th>3</th>\n",
       "      <td>2.240893</td>\n",
       "      <td>0.190649</td>\n",
       "      <td>0.428214</td>\n",
       "      <td>0.135300</td>\n",
       "      <td>1</td>\n",
       "      <td>281.118411</td>\n",
       "    </tr>\n",
       "    <tr>\n",
       "      <th>4</th>\n",
       "      <td>1.867558</td>\n",
       "      <td>-0.177810</td>\n",
       "      <td>-2.503947</td>\n",
       "      <td>0.653759</td>\n",
       "      <td>0</td>\n",
       "      <td>232.973757</td>\n",
       "    </tr>\n",
       "  </tbody>\n",
       "</table>\n",
       "</div>"
      ],
      "text/plain": [
       "         x1        x2        x3        x4  T           Y\n",
       "0  1.764052 -0.202117  0.330046  0.371232  0  265.794553\n",
       "1  0.400157 -0.833231 -0.000480  0.304784  0  214.898689\n",
       "2  0.978738  1.733600  0.818116  0.504125  1  279.221875\n",
       "3  2.240893  0.190649  0.428214  0.135300  1  281.118411\n",
       "4  1.867558 -0.177810 -2.503947  0.653759  0  232.973757"
      ]
     },
     "execution_count": 3,
     "metadata": {},
     "output_type": "execute_result"
    }
   ],
   "source": [
    "df = kang_shafer_data(size=10000)\n",
    "max_k = 30\n",
    "df.head()"
   ]
  },
  {
   "cell_type": "markdown",
   "metadata": {},
   "source": [
    "# Baseline evaluations"
   ]
  },
  {
   "cell_type": "code",
   "execution_count": 10,
   "metadata": {},
   "outputs": [
    {
     "data": {
      "text/plain": [
       "-28.352557954561235"
      ]
     },
     "execution_count": 10,
     "metadata": {},
     "output_type": "execute_result"
    }
   ],
   "source": [
    "IPW = calc_inv_propensity_score_weighting(df)\n",
    "IPW"
   ]
  },
  {
   "cell_type": "code",
   "execution_count": 4,
   "metadata": {},
   "outputs": [
    {
     "data": {
      "text/plain": [
       "-1.3579868981886536"
      ]
     },
     "execution_count": 4,
     "metadata": {},
     "output_type": "execute_result"
    }
   ],
   "source": [
    "baseline_euclidean = calc_matching(df, dist_func='euclidean', k=range(1, max_k+1))\n",
    "baseline_euclidean[0]"
   ]
  },
  {
   "cell_type": "code",
   "execution_count": 5,
   "metadata": {},
   "outputs": [
    {
     "data": {
      "text/plain": [
       "-1.333173956283655"
      ]
     },
     "execution_count": 5,
     "metadata": {},
     "output_type": "execute_result"
    }
   ],
   "source": [
    "baseline_mahalanobis = calc_matching(df, dist_func='mahalanobis', k=range(1,max_k+1))\n",
    "baseline_mahalanobis[0]"
   ]
  },
  {
   "cell_type": "markdown",
   "metadata": {},
   "source": [
    "# Evaluations from treatment predictions"
   ]
  },
  {
   "cell_type": "code",
   "execution_count": 7,
   "metadata": {},
   "outputs": [
    {
     "data": {
      "text/plain": [
       "0.8777853572189062"
      ]
     },
     "execution_count": 7,
     "metadata": {},
     "output_type": "execute_result"
    }
   ],
   "source": [
    "model_t_euclidean = calc_model_t_shap_matching(df, dist_func='euclidean', k=range(1,max_k+1))\n",
    "model_t_euclidean[0]"
   ]
  },
  {
   "cell_type": "code",
   "execution_count": 8,
   "metadata": {},
   "outputs": [
    {
     "data": {
      "text/plain": [
       "1.1145609873951707"
      ]
     },
     "execution_count": 8,
     "metadata": {},
     "output_type": "execute_result"
    }
   ],
   "source": [
    "model_t_mahalanobis = calc_model_t_shap_matching(df, dist_func='mahalanobis', k=range(1,max_k+1))\n",
    "model_t_mahalanobis[0]"
   ]
  },
  {
   "cell_type": "markdown",
   "metadata": {},
   "source": [
    "# Evaluation from outcome predictions"
   ]
  },
  {
   "cell_type": "code",
   "execution_count": 9,
   "metadata": {},
   "outputs": [
    {
     "data": {
      "text/plain": [
       "-0.593598248071387"
      ]
     },
     "execution_count": 9,
     "metadata": {},
     "output_type": "execute_result"
    }
   ],
   "source": [
    "model_y_euclidean = calc_model_y_shap_matching(df, dist_func='euclidean', k=range(1,max_k+1))\n",
    "model_y_euclidean[0]"
   ]
  },
  {
   "cell_type": "code",
   "execution_count": 10,
   "metadata": {},
   "outputs": [
    {
     "data": {
      "text/plain": [
       "-1.3287997121288737"
      ]
     },
     "execution_count": 10,
     "metadata": {},
     "output_type": "execute_result"
    }
   ],
   "source": [
    "model_y_mahalanobis = calc_model_y_shap_matching(df, dist_func='mahalanobis', k=range(1,max_k+1))\n",
    "model_y_mahalanobis[0]"
   ]
  },
  {
   "cell_type": "markdown",
   "metadata": {},
   "source": [
    "# Evaluation from outcome and treatment predictions"
   ]
  },
  {
   "cell_type": "code",
   "execution_count": 11,
   "metadata": {},
   "outputs": [
    {
     "data": {
      "text/plain": [
       "-17.782197619595536"
      ]
     },
     "execution_count": 11,
     "metadata": {},
     "output_type": "execute_result"
    }
   ],
   "source": [
    "model_y_model_t_euclidean = calc_model_y_and_model_t_shap_matching(\n",
    "    df, combining_method='ratio', dist_func='euclidean', k=range(1,max_k+1))\n",
    "model_y_model_t_euclidean[0]"
   ]
  },
  {
   "cell_type": "code",
   "execution_count": 12,
   "metadata": {},
   "outputs": [
    {
     "data": {
      "text/plain": [
       "-19.290467869280803"
      ]
     },
     "execution_count": 12,
     "metadata": {},
     "output_type": "execute_result"
    }
   ],
   "source": [
    "model_y_model_t_mahalanobis = calc_model_y_and_model_t_shap_matching(\n",
    "    df, combining_method='ratio', dist_func='mahalanobis', k=range(1,max_k+1))\n",
    "model_y_model_t_mahalanobis[0]"
   ]
  },
  {
   "cell_type": "markdown",
   "metadata": {},
   "source": [
    "# Save all joint values"
   ]
  },
  {
   "cell_type": "code",
   "execution_count": 14,
   "metadata": {},
   "outputs": [
    {
     "data": {
      "text/html": [
       "<div>\n",
       "<style scoped>\n",
       "    .dataframe tbody tr th:only-of-type {\n",
       "        vertical-align: middle;\n",
       "    }\n",
       "\n",
       "    .dataframe tbody tr th {\n",
       "        vertical-align: top;\n",
       "    }\n",
       "\n",
       "    .dataframe thead th {\n",
       "        text-align: right;\n",
       "    }\n",
       "</style>\n",
       "<table border=\"1\" class=\"dataframe\">\n",
       "  <thead>\n",
       "    <tr style=\"text-align: right;\">\n",
       "      <th></th>\n",
       "      <th>k</th>\n",
       "      <th>baseline_euclidean</th>\n",
       "      <th>baseline_mahalanobis</th>\n",
       "      <th>model_t_euclidean</th>\n",
       "      <th>model_t_mahalanobis</th>\n",
       "      <th>model_y_euclidean</th>\n",
       "      <th>model_y_mahalanobis</th>\n",
       "      <th>model_y_model_t_euclidean</th>\n",
       "      <th>model_y_model_t_mahalanobis</th>\n",
       "    </tr>\n",
       "  </thead>\n",
       "  <tbody>\n",
       "    <tr>\n",
       "      <th>0</th>\n",
       "      <td>1</td>\n",
       "      <td>-1.357987</td>\n",
       "      <td>-1.333174</td>\n",
       "      <td>0.877785</td>\n",
       "      <td>1.114561</td>\n",
       "      <td>-0.593598</td>\n",
       "      <td>-1.328800</td>\n",
       "      <td>-17.782198</td>\n",
       "      <td>-19.290468</td>\n",
       "    </tr>\n",
       "    <tr>\n",
       "      <th>1</th>\n",
       "      <td>2</td>\n",
       "      <td>-1.623129</td>\n",
       "      <td>-1.598366</td>\n",
       "      <td>0.711033</td>\n",
       "      <td>0.942500</td>\n",
       "      <td>-0.652222</td>\n",
       "      <td>-1.521034</td>\n",
       "      <td>-17.668081</td>\n",
       "      <td>-19.222156</td>\n",
       "    </tr>\n",
       "    <tr>\n",
       "      <th>2</th>\n",
       "      <td>3</td>\n",
       "      <td>-1.839419</td>\n",
       "      <td>-1.817080</td>\n",
       "      <td>0.683899</td>\n",
       "      <td>0.838269</td>\n",
       "      <td>-0.696537</td>\n",
       "      <td>-1.721348</td>\n",
       "      <td>-17.830536</td>\n",
       "      <td>-19.098885</td>\n",
       "    </tr>\n",
       "    <tr>\n",
       "      <th>3</th>\n",
       "      <td>4</td>\n",
       "      <td>-1.995404</td>\n",
       "      <td>-1.968894</td>\n",
       "      <td>0.546256</td>\n",
       "      <td>0.708775</td>\n",
       "      <td>-0.738726</td>\n",
       "      <td>-1.924029</td>\n",
       "      <td>-17.915762</td>\n",
       "      <td>-19.220932</td>\n",
       "    </tr>\n",
       "    <tr>\n",
       "      <th>4</th>\n",
       "      <td>5</td>\n",
       "      <td>-2.107631</td>\n",
       "      <td>-2.068869</td>\n",
       "      <td>0.481273</td>\n",
       "      <td>0.657906</td>\n",
       "      <td>-0.772231</td>\n",
       "      <td>-2.027690</td>\n",
       "      <td>-18.079348</td>\n",
       "      <td>-19.134381</td>\n",
       "    </tr>\n",
       "  </tbody>\n",
       "</table>\n",
       "</div>"
      ],
      "text/plain": [
       "   k  baseline_euclidean  baseline_mahalanobis  model_t_euclidean  \\\n",
       "0  1           -1.357987             -1.333174           0.877785   \n",
       "1  2           -1.623129             -1.598366           0.711033   \n",
       "2  3           -1.839419             -1.817080           0.683899   \n",
       "3  4           -1.995404             -1.968894           0.546256   \n",
       "4  5           -2.107631             -2.068869           0.481273   \n",
       "\n",
       "   model_t_mahalanobis  model_y_euclidean  model_y_mahalanobis  \\\n",
       "0             1.114561          -0.593598            -1.328800   \n",
       "1             0.942500          -0.652222            -1.521034   \n",
       "2             0.838269          -0.696537            -1.721348   \n",
       "3             0.708775          -0.738726            -1.924029   \n",
       "4             0.657906          -0.772231            -2.027690   \n",
       "\n",
       "   model_y_model_t_euclidean  model_y_model_t_mahalanobis  \n",
       "0                 -17.782198                   -19.290468  \n",
       "1                 -17.668081                   -19.222156  \n",
       "2                 -17.830536                   -19.098885  \n",
       "3                 -17.915762                   -19.220932  \n",
       "4                 -18.079348                   -19.134381  "
      ]
     },
     "execution_count": 14,
     "metadata": {},
     "output_type": "execute_result"
    }
   ],
   "source": [
    "joint_values = pd.DataFrame({'k':range(1, max_k+1), \n",
    "                            'baseline_euclidean':baseline_euclidean, \n",
    "                            'baseline_mahalanobis':baseline_mahalanobis, \n",
    "                            'model_t_euclidean':model_t_euclidean, \n",
    "                            'model_t_mahalanobis':model_t_mahalanobis, \n",
    "                            'model_y_euclidean':model_y_euclidean, \n",
    "                            'model_y_mahalanobis':model_y_mahalanobis, \n",
    "                            'model_y_model_t_euclidean':model_y_model_t_euclidean, \n",
    "                            'model_y_model_t_mahalanobis':model_y_model_t_mahalanobis\n",
    "                           })\n",
    "joint_values.head()"
   ]
  },
  {
   "cell_type": "code",
   "execution_count": 15,
   "metadata": {},
   "outputs": [],
   "source": [
    "joint_values.to_csv('../Data/kang_schafer_outputs.csv')"
   ]
  },
  {
   "cell_type": "code",
   "execution_count": 4,
   "metadata": {},
   "outputs": [],
   "source": [
    "joint_values = pd.read_csv('../Data/kang_schafer_outputs.csv', index_col=0)"
   ]
  },
  {
   "cell_type": "markdown",
   "metadata": {},
   "source": [
    "# Plot the joint values"
   ]
  },
  {
   "cell_type": "code",
   "execution_count": 5,
   "metadata": {},
   "outputs": [
    {
     "data": {
      "text/plain": [
       "Index(['baseline_euclidean', 'baseline_mahalanobis', 'model_t_euclidean',\n",
       "       'model_t_mahalanobis', 'model_y_euclidean', 'model_y_mahalanobis',\n",
       "       'model_y_model_t_euclidean', 'model_y_model_t_mahalanobis'],\n",
       "      dtype='object')"
      ]
     },
     "execution_count": 5,
     "metadata": {},
     "output_type": "execute_result"
    }
   ],
   "source": [
    "joint_values.columns[1:]"
   ]
  },
  {
   "cell_type": "code",
   "execution_count": 12,
   "metadata": {},
   "outputs": [],
   "source": []
  },
  {
   "cell_type": "code",
   "execution_count": 6,
   "metadata": {},
   "outputs": [
    {
     "data": {
      "text/plain": [
       "(240, 4)"
      ]
     },
     "execution_count": 6,
     "metadata": {},
     "output_type": "execute_result"
    }
   ],
   "source": [
    "long_values = pd.DataFrame(columns=['num_neighbors', 'model_type', 'distance', 'ATT value'])\n",
    "for model_type in ['baseline', 'model_t', 'model_y', 'model_y_model_t']:\n",
    "    for distance in ['euclidean', 'mahalanobis']:\n",
    "        long_values = pd.concat([long_values, \n",
    "                                 pd.DataFrame({'num_neighbors':joint_values.k, \n",
    "                                               'model_type':model_type, \n",
    "                                               'distance':distance, \n",
    "                                               'ATT value':joint_values['_'.join([model_type, distance])]})])\n",
    "long_values.shape"
   ]
  },
  {
   "cell_type": "code",
   "execution_count": 7,
   "metadata": {},
   "outputs": [],
   "source": [
    "import seaborn as sns\n",
    "import matplotlib.pyplot as plt"
   ]
  },
  {
   "cell_type": "code",
   "execution_count": 14,
   "metadata": {},
   "outputs": [
    {
     "data": {
      "image/png": "[encoded data removed]",
      "text/plain": [
       "<Figure size 720x576 with 1 Axes>"
      ]
     },
     "metadata": {
      "needs_background": "light"
     },
     "output_type": "display_data"
    }
   ],
   "source": [
    "plt.figure(figsize=(10, 8))\n",
    "ax = sns.lineplot(data=long_values, x='num_neighbors', y='ATT value', hue='model_type', style='distance')\n",
    "plt.hlines(-20, 0, joint_values.k.max(), label=\"True ATT\")\n",
    "plt.hlines(IPW, 0, joint_values.k.max(), colors=['purple'], label=\"IPW\")\n",
    "plt.legend(bbox_to_anchor=(1.05, 1), loc=2, borderaxespad=0.)\n",
    "plt.savefig('../Paper/images/kang_schafer_ATE_estimations_by_neighbor.jpg')\n",
    "plt.show()"
   ]
  },
  {
   "cell_type": "code",
   "execution_count": null,
   "metadata": {},
   "outputs": [],
   "source": []
  }
 ],
 "metadata": {
  "kernelspec": {
   "display_name": "Python 3",
   "language": "python",
   "name": "python3"
  },
  "language_info": {
   "codemirror_mode": {
    "name": "ipython",
    "version": 3
   },
   "file_extension": ".py",
   "mimetype": "text/x-python",
   "name": "python",
   "nbconvert_exporter": "python",
   "pygments_lexer": "ipython3",
   "version": "3.6.8"
  }
 },
 "nbformat": 4,
 "nbformat_minor": 2
}
