{
 "cells": [
  {
   "cell_type": "code",
   "execution_count": 26,
   "metadata": {},
   "outputs": [],
   "source": [
    "import numpy as np\n",
    "import pandas as pd\n",
    "import seaborn as sns\n",
    "import matplotlib.pyplot as plt\n",
    "from auxiliary_methods import *\n",
    "from zbias_data_generation import MonteCarloSimulation"
   ]
  },
  {
   "cell_type": "code",
   "execution_count": 27,
   "metadata": {},
   "outputs": [],
   "source": [
    "max_k = 30"
   ]
  },
  {
   "cell_type": "code",
   "execution_count": 28,
   "metadata": {},
   "outputs": [
    {
     "name": "stdout",
     "output_type": "stream",
     "text": [
      "Start Monte Carlo Simulation .. 2019-03-13 15:38:56.777423\n",
      "Start Additive Simulation .. 2019-03-13 15:38:56.777509\n",
      "Finish Additive Simulation .. 2019-03-13 15:38:56.784891\n",
      "Start Multiplicative Simulation .. 2019-03-13 15:38:56.784998\n",
      "Finish Multiplicative Simulation .. 2019-03-13 15:38:56.790025\n",
      "Finish Monte Carlo Simulation .. 2019-03-13 15:38:56.790110\n"
     ]
    }
   ],
   "source": [
    "M = MonteCarloSimulation(n_simulations=1, dataset_size=10000, random_seed=1976)"
   ]
  },
  {
   "cell_type": "code",
   "execution_count": 29,
   "metadata": {},
   "outputs": [
    {
     "data": {
      "text/plain": [
       "(10000, 3)"
      ]
     },
     "execution_count": 29,
     "metadata": {},
     "output_type": "execute_result"
    }
   ],
   "source": [
    "M.additive_data.shape"
   ]
  },
  {
   "cell_type": "code",
   "execution_count": 30,
   "metadata": {},
   "outputs": [
    {
     "data": {
      "text/html": [
       "<div>\n",
       "<style scoped>\n",
       "    .dataframe tbody tr th:only-of-type {\n",
       "        vertical-align: middle;\n",
       "    }\n",
       "\n",
       "    .dataframe tbody tr th {\n",
       "        vertical-align: top;\n",
       "    }\n",
       "\n",
       "    .dataframe thead th {\n",
       "        text-align: right;\n",
       "    }\n",
       "</style>\n",
       "<table border=\"1\" class=\"dataframe\">\n",
       "  <thead>\n",
       "    <tr style=\"text-align: right;\">\n",
       "      <th></th>\n",
       "      <th>Z</th>\n",
       "      <th>T</th>\n",
       "      <th>Y</th>\n",
       "    </tr>\n",
       "  </thead>\n",
       "  <tbody>\n",
       "    <tr>\n",
       "      <th>0</th>\n",
       "      <td>1</td>\n",
       "      <td>1</td>\n",
       "      <td>0</td>\n",
       "    </tr>\n",
       "    <tr>\n",
       "      <th>1</th>\n",
       "      <td>0</td>\n",
       "      <td>0</td>\n",
       "      <td>0</td>\n",
       "    </tr>\n",
       "    <tr>\n",
       "      <th>2</th>\n",
       "      <td>1</td>\n",
       "      <td>1</td>\n",
       "      <td>1</td>\n",
       "    </tr>\n",
       "    <tr>\n",
       "      <th>3</th>\n",
       "      <td>1</td>\n",
       "      <td>1</td>\n",
       "      <td>0</td>\n",
       "    </tr>\n",
       "    <tr>\n",
       "      <th>4</th>\n",
       "      <td>0</td>\n",
       "      <td>1</td>\n",
       "      <td>0</td>\n",
       "    </tr>\n",
       "  </tbody>\n",
       "</table>\n",
       "</div>"
      ],
      "text/plain": [
       "   Z  T  Y\n",
       "0  1  1  0\n",
       "1  0  0  0\n",
       "2  1  1  1\n",
       "3  1  1  0\n",
       "4  0  1  0"
      ]
     },
     "execution_count": 30,
     "metadata": {},
     "output_type": "execute_result"
    }
   ],
   "source": [
    "df = M.additive_data\n",
    "df.head()"
   ]
  },
  {
   "cell_type": "markdown",
   "metadata": {},
   "source": [
    "# Baseline evaluations"
   ]
  },
  {
   "cell_type": "code",
   "execution_count": 31,
   "metadata": {},
   "outputs": [
    {
     "data": {
      "text/plain": [
       "0.2227774320880369"
      ]
     },
     "execution_count": 31,
     "metadata": {},
     "output_type": "execute_result"
    }
   ],
   "source": [
    "IPW = calc_inv_propensity_score_weighting(df)\n",
    "IPW"
   ]
  },
  {
   "cell_type": "code",
   "execution_count": 32,
   "metadata": {},
   "outputs": [
    {
     "data": {
      "text/plain": [
       "-0.09362168081029291"
      ]
     },
     "execution_count": 32,
     "metadata": {},
     "output_type": "execute_result"
    }
   ],
   "source": [
    "baseline_euclidean = calc_matching(df, dist_func='euclidean', k=range(1, max_k+1))\n",
    "baseline_euclidean[0]"
   ]
  },
  {
   "cell_type": "code",
   "execution_count": 33,
   "metadata": {},
   "outputs": [
    {
     "data": {
      "text/plain": [
       "-0.09362168081029291"
      ]
     },
     "execution_count": 33,
     "metadata": {},
     "output_type": "execute_result"
    }
   ],
   "source": [
    "baseline_mahalanobis = calc_matching(df, dist_func='mahalanobis', k=range(1,max_k+1))\n",
    "baseline_mahalanobis[0]"
   ]
  },
  {
   "cell_type": "markdown",
   "metadata": {},
   "source": [
    "# Evaluations from treatment predictions"
   ]
  },
  {
   "cell_type": "code",
   "execution_count": 34,
   "metadata": {},
   "outputs": [
    {
     "data": {
      "text/plain": [
       "-0.09362168081029291"
      ]
     },
     "execution_count": 34,
     "metadata": {},
     "output_type": "execute_result"
    }
   ],
   "source": [
    "model_t_euclidean = calc_model_t_shap_matching(df, dist_func='euclidean', k=range(1,max_k+1))\n",
    "model_t_euclidean[0]"
   ]
  },
  {
   "cell_type": "code",
   "execution_count": 35,
   "metadata": {},
   "outputs": [
    {
     "data": {
      "text/plain": [
       "-0.09362168081029291"
      ]
     },
     "execution_count": 35,
     "metadata": {},
     "output_type": "execute_result"
    }
   ],
   "source": [
    "model_t_mahalanobis = calc_model_t_shap_matching(df, dist_func='mahalanobis', k=range(1,max_k+1))\n",
    "model_t_mahalanobis[0]"
   ]
  },
  {
   "cell_type": "markdown",
   "metadata": {},
   "source": [
    "# Evaluation from outcome predictions"
   ]
  },
  {
   "cell_type": "code",
   "execution_count": 36,
   "metadata": {},
   "outputs": [
    {
     "data": {
      "text/plain": [
       "-0.07473309608540925"
      ]
     },
     "execution_count": 36,
     "metadata": {},
     "output_type": "execute_result"
    }
   ],
   "source": [
    "model_y_euclidean = calc_model_y_shap_matching(df, dist_func='euclidean', k=range(1,max_k+1))\n",
    "model_y_euclidean[0]"
   ]
  },
  {
   "cell_type": "code",
   "execution_count": 37,
   "metadata": {},
   "outputs": [
    {
     "data": {
      "text/plain": [
       "-0.07473309608540925"
      ]
     },
     "execution_count": 37,
     "metadata": {},
     "output_type": "execute_result"
    }
   ],
   "source": [
    "model_y_mahalanobis = calc_model_y_shap_matching(df, dist_func='mahalanobis', k=range(1,max_k+1))\n",
    "model_y_mahalanobis[0]"
   ]
  },
  {
   "cell_type": "markdown",
   "metadata": {},
   "source": [
    "# Evaluation from outcome and treatment predictions"
   ]
  },
  {
   "cell_type": "code",
   "execution_count": 38,
   "metadata": {},
   "outputs": [
    {
     "data": {
      "text/plain": [
       "0.41582261155214895"
      ]
     },
     "execution_count": 38,
     "metadata": {},
     "output_type": "execute_result"
    }
   ],
   "source": [
    "model_y_model_t_euclidean = calc_model_y_and_model_t_shap_matching(\n",
    "    df, combining_method='ratio', dist_func='euclidean', k=range(1,max_k+1))\n",
    "model_y_model_t_euclidean[0]"
   ]
  },
  {
   "cell_type": "code",
   "execution_count": 39,
   "metadata": {},
   "outputs": [
    {
     "data": {
      "text/plain": [
       "0.41582261155214895"
      ]
     },
     "execution_count": 39,
     "metadata": {},
     "output_type": "execute_result"
    }
   ],
   "source": [
    "model_y_model_t_mahalanobis = calc_model_y_and_model_t_shap_matching(\n",
    "    df, combining_method='ratio', dist_func='mahalanobis', k=range(1,max_k+1))\n",
    "model_y_model_t_mahalanobis[0]"
   ]
  },
  {
   "cell_type": "markdown",
   "metadata": {},
   "source": [
    "# Save all joint values"
   ]
  },
  {
   "cell_type": "code",
   "execution_count": 49,
   "metadata": {},
   "outputs": [
    {
     "data": {
      "text/html": [
       "<div>\n",
       "<style scoped>\n",
       "    .dataframe tbody tr th:only-of-type {\n",
       "        vertical-align: middle;\n",
       "    }\n",
       "\n",
       "    .dataframe tbody tr th {\n",
       "        vertical-align: top;\n",
       "    }\n",
       "\n",
       "    .dataframe thead th {\n",
       "        text-align: right;\n",
       "    }\n",
       "</style>\n",
       "<table border=\"1\" class=\"dataframe\">\n",
       "  <thead>\n",
       "    <tr style=\"text-align: right;\">\n",
       "      <th></th>\n",
       "      <th>k</th>\n",
       "      <th>baseline_euclidean</th>\n",
       "      <th>baseline_mahalanobis</th>\n",
       "      <th>model_t_euclidean</th>\n",
       "      <th>model_t_mahalanobis</th>\n",
       "      <th>model_y_euclidean</th>\n",
       "      <th>model_y_mahalanobis</th>\n",
       "      <th>model_y_model_t_euclidean</th>\n",
       "      <th>model_y_model_t_mahalanobis</th>\n",
       "    </tr>\n",
       "  </thead>\n",
       "  <tbody>\n",
       "    <tr>\n",
       "      <th>0</th>\n",
       "      <td>1</td>\n",
       "      <td>-0.093622</td>\n",
       "      <td>-0.093622</td>\n",
       "      <td>-0.093622</td>\n",
       "      <td>-0.093622</td>\n",
       "      <td>-0.074733</td>\n",
       "      <td>-0.074733</td>\n",
       "      <td>0.415823</td>\n",
       "      <td>0.415823</td>\n",
       "    </tr>\n",
       "    <tr>\n",
       "      <th>1</th>\n",
       "      <td>2</td>\n",
       "      <td>0.161100</td>\n",
       "      <td>0.161100</td>\n",
       "      <td>0.161100</td>\n",
       "      <td>0.161100</td>\n",
       "      <td>0.170545</td>\n",
       "      <td>0.170545</td>\n",
       "      <td>0.415823</td>\n",
       "      <td>0.415823</td>\n",
       "    </tr>\n",
       "    <tr>\n",
       "      <th>2</th>\n",
       "      <td>3</td>\n",
       "      <td>0.246008</td>\n",
       "      <td>0.246008</td>\n",
       "      <td>0.246008</td>\n",
       "      <td>0.246008</td>\n",
       "      <td>0.252304</td>\n",
       "      <td>0.252304</td>\n",
       "      <td>0.415823</td>\n",
       "      <td>0.415823</td>\n",
       "    </tr>\n",
       "    <tr>\n",
       "      <th>3</th>\n",
       "      <td>4</td>\n",
       "      <td>0.288462</td>\n",
       "      <td>0.288462</td>\n",
       "      <td>0.288462</td>\n",
       "      <td>0.288462</td>\n",
       "      <td>0.293184</td>\n",
       "      <td>0.293184</td>\n",
       "      <td>0.415823</td>\n",
       "      <td>0.415823</td>\n",
       "    </tr>\n",
       "    <tr>\n",
       "      <th>4</th>\n",
       "      <td>5</td>\n",
       "      <td>0.313934</td>\n",
       "      <td>0.313934</td>\n",
       "      <td>0.313934</td>\n",
       "      <td>0.313934</td>\n",
       "      <td>0.317711</td>\n",
       "      <td>0.317711</td>\n",
       "      <td>0.415823</td>\n",
       "      <td>0.415823</td>\n",
       "    </tr>\n",
       "    <tr>\n",
       "      <th>5</th>\n",
       "      <td>6</td>\n",
       "      <td>0.246008</td>\n",
       "      <td>0.246008</td>\n",
       "      <td>0.246008</td>\n",
       "      <td>0.246008</td>\n",
       "      <td>0.252304</td>\n",
       "      <td>0.252304</td>\n",
       "      <td>0.415823</td>\n",
       "      <td>0.415823</td>\n",
       "    </tr>\n",
       "    <tr>\n",
       "      <th>6</th>\n",
       "      <td>7</td>\n",
       "      <td>0.270267</td>\n",
       "      <td>0.270267</td>\n",
       "      <td>0.270267</td>\n",
       "      <td>0.270267</td>\n",
       "      <td>0.275664</td>\n",
       "      <td>0.275664</td>\n",
       "      <td>0.415823</td>\n",
       "      <td>0.415823</td>\n",
       "    </tr>\n",
       "    <tr>\n",
       "      <th>7</th>\n",
       "      <td>8</td>\n",
       "      <td>0.227142</td>\n",
       "      <td>0.227142</td>\n",
       "      <td>0.227142</td>\n",
       "      <td>0.227142</td>\n",
       "      <td>0.229503</td>\n",
       "      <td>0.229503</td>\n",
       "      <td>0.290823</td>\n",
       "      <td>0.290823</td>\n",
       "    </tr>\n",
       "    <tr>\n",
       "      <th>8</th>\n",
       "      <td>9</td>\n",
       "      <td>0.248107</td>\n",
       "      <td>0.248107</td>\n",
       "      <td>0.248107</td>\n",
       "      <td>0.248107</td>\n",
       "      <td>0.250205</td>\n",
       "      <td>0.250205</td>\n",
       "      <td>0.304712</td>\n",
       "      <td>0.304712</td>\n",
       "    </tr>\n",
       "    <tr>\n",
       "      <th>9</th>\n",
       "      <td>10</td>\n",
       "      <td>0.213934</td>\n",
       "      <td>0.213934</td>\n",
       "      <td>0.213934</td>\n",
       "      <td>0.213934</td>\n",
       "      <td>0.217711</td>\n",
       "      <td>0.217711</td>\n",
       "      <td>0.315823</td>\n",
       "      <td>0.315823</td>\n",
       "    </tr>\n",
       "    <tr>\n",
       "      <th>10</th>\n",
       "      <td>11</td>\n",
       "      <td>0.141378</td>\n",
       "      <td>0.141378</td>\n",
       "      <td>0.141378</td>\n",
       "      <td>0.141378</td>\n",
       "      <td>0.144812</td>\n",
       "      <td>0.144812</td>\n",
       "      <td>0.234004</td>\n",
       "      <td>0.234004</td>\n",
       "    </tr>\n",
       "    <tr>\n",
       "      <th>11</th>\n",
       "      <td>12</td>\n",
       "      <td>0.164249</td>\n",
       "      <td>0.164249</td>\n",
       "      <td>0.164249</td>\n",
       "      <td>0.164249</td>\n",
       "      <td>0.167397</td>\n",
       "      <td>0.167397</td>\n",
       "      <td>0.249156</td>\n",
       "      <td>0.249156</td>\n",
       "    </tr>\n",
       "    <tr>\n",
       "      <th>12</th>\n",
       "      <td>13</td>\n",
       "      <td>0.183600</td>\n",
       "      <td>0.183600</td>\n",
       "      <td>0.183600</td>\n",
       "      <td>0.183600</td>\n",
       "      <td>0.186506</td>\n",
       "      <td>0.186506</td>\n",
       "      <td>0.261976</td>\n",
       "      <td>0.261976</td>\n",
       "    </tr>\n",
       "    <tr>\n",
       "      <th>13</th>\n",
       "      <td>14</td>\n",
       "      <td>0.200188</td>\n",
       "      <td>0.200188</td>\n",
       "      <td>0.200188</td>\n",
       "      <td>0.200188</td>\n",
       "      <td>0.202886</td>\n",
       "      <td>0.202886</td>\n",
       "      <td>0.272965</td>\n",
       "      <td>0.272965</td>\n",
       "    </tr>\n",
       "    <tr>\n",
       "      <th>14</th>\n",
       "      <td>15</td>\n",
       "      <td>0.214563</td>\n",
       "      <td>0.214563</td>\n",
       "      <td>0.214563</td>\n",
       "      <td>0.214563</td>\n",
       "      <td>0.217082</td>\n",
       "      <td>0.217082</td>\n",
       "      <td>0.282489</td>\n",
       "      <td>0.282489</td>\n",
       "    </tr>\n",
       "    <tr>\n",
       "      <th>15</th>\n",
       "      <td>16</td>\n",
       "      <td>0.227142</td>\n",
       "      <td>0.227142</td>\n",
       "      <td>0.227142</td>\n",
       "      <td>0.227142</td>\n",
       "      <td>0.229503</td>\n",
       "      <td>0.229503</td>\n",
       "      <td>0.290823</td>\n",
       "      <td>0.290823</td>\n",
       "    </tr>\n",
       "    <tr>\n",
       "      <th>16</th>\n",
       "      <td>17</td>\n",
       "      <td>0.238241</td>\n",
       "      <td>0.238241</td>\n",
       "      <td>0.238241</td>\n",
       "      <td>0.238241</td>\n",
       "      <td>0.240463</td>\n",
       "      <td>0.240463</td>\n",
       "      <td>0.298176</td>\n",
       "      <td>0.298176</td>\n",
       "    </tr>\n",
       "    <tr>\n",
       "      <th>17</th>\n",
       "      <td>18</td>\n",
       "      <td>0.219804</td>\n",
       "      <td>0.219804</td>\n",
       "      <td>0.219804</td>\n",
       "      <td>0.219804</td>\n",
       "      <td>0.222952</td>\n",
       "      <td>0.222952</td>\n",
       "      <td>0.304712</td>\n",
       "      <td>0.304712</td>\n",
       "    </tr>\n",
       "    <tr>\n",
       "      <th>18</th>\n",
       "      <td>19</td>\n",
       "      <td>0.204302</td>\n",
       "      <td>0.204302</td>\n",
       "      <td>0.204302</td>\n",
       "      <td>0.204302</td>\n",
       "      <td>0.206290</td>\n",
       "      <td>0.206290</td>\n",
       "      <td>0.257928</td>\n",
       "      <td>0.257928</td>\n",
       "    </tr>\n",
       "    <tr>\n",
       "      <th>19</th>\n",
       "      <td>20</td>\n",
       "      <td>0.214878</td>\n",
       "      <td>0.214878</td>\n",
       "      <td>0.214878</td>\n",
       "      <td>0.214878</td>\n",
       "      <td>0.216767</td>\n",
       "      <td>0.216767</td>\n",
       "      <td>0.265823</td>\n",
       "      <td>0.265823</td>\n",
       "    </tr>\n",
       "    <tr>\n",
       "      <th>20</th>\n",
       "      <td>21</td>\n",
       "      <td>0.224447</td>\n",
       "      <td>0.224447</td>\n",
       "      <td>0.224447</td>\n",
       "      <td>0.224447</td>\n",
       "      <td>0.226246</td>\n",
       "      <td>0.226246</td>\n",
       "      <td>0.272965</td>\n",
       "      <td>0.272965</td>\n",
       "    </tr>\n",
       "    <tr>\n",
       "      <th>21</th>\n",
       "      <td>22</td>\n",
       "      <td>0.233146</td>\n",
       "      <td>0.233146</td>\n",
       "      <td>0.233146</td>\n",
       "      <td>0.233146</td>\n",
       "      <td>0.234863</td>\n",
       "      <td>0.234863</td>\n",
       "      <td>0.279459</td>\n",
       "      <td>0.279459</td>\n",
       "    </tr>\n",
       "    <tr>\n",
       "      <th>22</th>\n",
       "      <td>23</td>\n",
       "      <td>0.241088</td>\n",
       "      <td>0.241088</td>\n",
       "      <td>0.241088</td>\n",
       "      <td>0.241088</td>\n",
       "      <td>0.242731</td>\n",
       "      <td>0.242731</td>\n",
       "      <td>0.285388</td>\n",
       "      <td>0.285388</td>\n",
       "    </tr>\n",
       "    <tr>\n",
       "      <th>23</th>\n",
       "      <td>24</td>\n",
       "      <td>0.248369</td>\n",
       "      <td>0.248369</td>\n",
       "      <td>0.248369</td>\n",
       "      <td>0.248369</td>\n",
       "      <td>0.249943</td>\n",
       "      <td>0.249943</td>\n",
       "      <td>0.290823</td>\n",
       "      <td>0.290823</td>\n",
       "    </tr>\n",
       "    <tr>\n",
       "      <th>24</th>\n",
       "      <td>25</td>\n",
       "      <td>0.235445</td>\n",
       "      <td>0.235445</td>\n",
       "      <td>0.235445</td>\n",
       "      <td>0.235445</td>\n",
       "      <td>0.236200</td>\n",
       "      <td>0.236200</td>\n",
       "      <td>0.255823</td>\n",
       "      <td>0.255823</td>\n",
       "    </tr>\n",
       "    <tr>\n",
       "      <th>25</th>\n",
       "      <td>26</td>\n",
       "      <td>0.242382</td>\n",
       "      <td>0.242382</td>\n",
       "      <td>0.242382</td>\n",
       "      <td>0.242382</td>\n",
       "      <td>0.243109</td>\n",
       "      <td>0.243109</td>\n",
       "      <td>0.261976</td>\n",
       "      <td>0.261976</td>\n",
       "    </tr>\n",
       "    <tr>\n",
       "      <th>26</th>\n",
       "      <td>27</td>\n",
       "      <td>0.248806</td>\n",
       "      <td>0.248806</td>\n",
       "      <td>0.248806</td>\n",
       "      <td>0.248806</td>\n",
       "      <td>0.249506</td>\n",
       "      <td>0.249506</td>\n",
       "      <td>0.267674</td>\n",
       "      <td>0.267674</td>\n",
       "    </tr>\n",
       "    <tr>\n",
       "      <th>27</th>\n",
       "      <td>28</td>\n",
       "      <td>0.219057</td>\n",
       "      <td>0.219057</td>\n",
       "      <td>0.219057</td>\n",
       "      <td>0.219057</td>\n",
       "      <td>0.219731</td>\n",
       "      <td>0.219731</td>\n",
       "      <td>0.237251</td>\n",
       "      <td>0.237251</td>\n",
       "    </tr>\n",
       "    <tr>\n",
       "      <th>28</th>\n",
       "      <td>29</td>\n",
       "      <td>0.208926</td>\n",
       "      <td>0.208926</td>\n",
       "      <td>0.208926</td>\n",
       "      <td>0.208926</td>\n",
       "      <td>0.208926</td>\n",
       "      <td>0.208926</td>\n",
       "      <td>0.208926</td>\n",
       "      <td>0.208926</td>\n",
       "    </tr>\n",
       "    <tr>\n",
       "      <th>29</th>\n",
       "      <td>30</td>\n",
       "      <td>0.215823</td>\n",
       "      <td>0.215823</td>\n",
       "      <td>0.215823</td>\n",
       "      <td>0.215823</td>\n",
       "      <td>0.215823</td>\n",
       "      <td>0.215823</td>\n",
       "      <td>0.215823</td>\n",
       "      <td>0.215823</td>\n",
       "    </tr>\n",
       "  </tbody>\n",
       "</table>\n",
       "</div>"
      ],
      "text/plain": [
       "     k  baseline_euclidean  baseline_mahalanobis  model_t_euclidean  \\\n",
       "0    1           -0.093622             -0.093622          -0.093622   \n",
       "1    2            0.161100              0.161100           0.161100   \n",
       "2    3            0.246008              0.246008           0.246008   \n",
       "3    4            0.288462              0.288462           0.288462   \n",
       "4    5            0.313934              0.313934           0.313934   \n",
       "5    6            0.246008              0.246008           0.246008   \n",
       "6    7            0.270267              0.270267           0.270267   \n",
       "7    8            0.227142              0.227142           0.227142   \n",
       "8    9            0.248107              0.248107           0.248107   \n",
       "9   10            0.213934              0.213934           0.213934   \n",
       "10  11            0.141378              0.141378           0.141378   \n",
       "11  12            0.164249              0.164249           0.164249   \n",
       "12  13            0.183600              0.183600           0.183600   \n",
       "13  14            0.200188              0.200188           0.200188   \n",
       "14  15            0.214563              0.214563           0.214563   \n",
       "15  16            0.227142              0.227142           0.227142   \n",
       "16  17            0.238241              0.238241           0.238241   \n",
       "17  18            0.219804              0.219804           0.219804   \n",
       "18  19            0.204302              0.204302           0.204302   \n",
       "19  20            0.214878              0.214878           0.214878   \n",
       "20  21            0.224447              0.224447           0.224447   \n",
       "21  22            0.233146              0.233146           0.233146   \n",
       "22  23            0.241088              0.241088           0.241088   \n",
       "23  24            0.248369              0.248369           0.248369   \n",
       "24  25            0.235445              0.235445           0.235445   \n",
       "25  26            0.242382              0.242382           0.242382   \n",
       "26  27            0.248806              0.248806           0.248806   \n",
       "27  28            0.219057              0.219057           0.219057   \n",
       "28  29            0.208926              0.208926           0.208926   \n",
       "29  30            0.215823              0.215823           0.215823   \n",
       "\n",
       "    model_t_mahalanobis  model_y_euclidean  model_y_mahalanobis  \\\n",
       "0             -0.093622          -0.074733            -0.074733   \n",
       "1              0.161100           0.170545             0.170545   \n",
       "2              0.246008           0.252304             0.252304   \n",
       "3              0.288462           0.293184             0.293184   \n",
       "4              0.313934           0.317711             0.317711   \n",
       "5              0.246008           0.252304             0.252304   \n",
       "6              0.270267           0.275664             0.275664   \n",
       "7              0.227142           0.229503             0.229503   \n",
       "8              0.248107           0.250205             0.250205   \n",
       "9              0.213934           0.217711             0.217711   \n",
       "10             0.141378           0.144812             0.144812   \n",
       "11             0.164249           0.167397             0.167397   \n",
       "12             0.183600           0.186506             0.186506   \n",
       "13             0.200188           0.202886             0.202886   \n",
       "14             0.214563           0.217082             0.217082   \n",
       "15             0.227142           0.229503             0.229503   \n",
       "16             0.238241           0.240463             0.240463   \n",
       "17             0.219804           0.222952             0.222952   \n",
       "18             0.204302           0.206290             0.206290   \n",
       "19             0.214878           0.216767             0.216767   \n",
       "20             0.224447           0.226246             0.226246   \n",
       "21             0.233146           0.234863             0.234863   \n",
       "22             0.241088           0.242731             0.242731   \n",
       "23             0.248369           0.249943             0.249943   \n",
       "24             0.235445           0.236200             0.236200   \n",
       "25             0.242382           0.243109             0.243109   \n",
       "26             0.248806           0.249506             0.249506   \n",
       "27             0.219057           0.219731             0.219731   \n",
       "28             0.208926           0.208926             0.208926   \n",
       "29             0.215823           0.215823             0.215823   \n",
       "\n",
       "    model_y_model_t_euclidean  model_y_model_t_mahalanobis  \n",
       "0                    0.415823                     0.415823  \n",
       "1                    0.415823                     0.415823  \n",
       "2                    0.415823                     0.415823  \n",
       "3                    0.415823                     0.415823  \n",
       "4                    0.415823                     0.415823  \n",
       "5                    0.415823                     0.415823  \n",
       "6                    0.415823                     0.415823  \n",
       "7                    0.290823                     0.290823  \n",
       "8                    0.304712                     0.304712  \n",
       "9                    0.315823                     0.315823  \n",
       "10                   0.234004                     0.234004  \n",
       "11                   0.249156                     0.249156  \n",
       "12                   0.261976                     0.261976  \n",
       "13                   0.272965                     0.272965  \n",
       "14                   0.282489                     0.282489  \n",
       "15                   0.290823                     0.290823  \n",
       "16                   0.298176                     0.298176  \n",
       "17                   0.304712                     0.304712  \n",
       "18                   0.257928                     0.257928  \n",
       "19                   0.265823                     0.265823  \n",
       "20                   0.272965                     0.272965  \n",
       "21                   0.279459                     0.279459  \n",
       "22                   0.285388                     0.285388  \n",
       "23                   0.290823                     0.290823  \n",
       "24                   0.255823                     0.255823  \n",
       "25                   0.261976                     0.261976  \n",
       "26                   0.267674                     0.267674  \n",
       "27                   0.237251                     0.237251  \n",
       "28                   0.208926                     0.208926  \n",
       "29                   0.215823                     0.215823  "
      ]
     },
     "execution_count": 49,
     "metadata": {},
     "output_type": "execute_result"
    }
   ],
   "source": [
    "joint_values = pd.DataFrame({'k':range(1, max_k+1), \n",
    "                            'baseline_euclidean':baseline_euclidean, \n",
    "                            'baseline_mahalanobis':baseline_mahalanobis, \n",
    "                            'model_t_euclidean':model_t_euclidean, \n",
    "                            'model_t_mahalanobis':model_t_mahalanobis, \n",
    "                            'model_y_euclidean':model_y_euclidean, \n",
    "                            'model_y_mahalanobis':model_y_mahalanobis, \n",
    "                            'model_y_model_t_euclidean':model_y_model_t_euclidean, \n",
    "                            'model_y_model_t_mahalanobis':model_y_model_t_mahalanobis\n",
    "                           })\n",
    "joint_values.head(30)"
   ]
  },
  {
   "cell_type": "code",
   "execution_count": 41,
   "metadata": {},
   "outputs": [],
   "source": [
    "joint_values.to_csv('../Data/zbias__additive_outputs.csv')"
   ]
  },
  {
   "cell_type": "code",
   "execution_count": 42,
   "metadata": {},
   "outputs": [],
   "source": [
    "joint_values = pd.read_csv('../Data/zbias_outputs.csv', index_col=0)"
   ]
  },
  {
   "cell_type": "markdown",
   "metadata": {},
   "source": [
    "# Plot the joint values"
   ]
  },
  {
   "cell_type": "code",
   "execution_count": 43,
   "metadata": {},
   "outputs": [
    {
     "data": {
      "text/plain": [
       "Index(['baseline_euclidean', 'baseline_mahalanobis', 'model_t_euclidean',\n",
       "       'model_t_mahalanobis', 'model_y_euclidean', 'model_y_mahalanobis',\n",
       "       'model_y_model_t_euclidean', 'model_y_model_t_mahalanobis'],\n",
       "      dtype='object')"
      ]
     },
     "execution_count": 43,
     "metadata": {},
     "output_type": "execute_result"
    }
   ],
   "source": [
    "joint_values.columns[1:]"
   ]
  },
  {
   "cell_type": "code",
   "execution_count": 44,
   "metadata": {},
   "outputs": [
    {
     "data": {
      "text/plain": [
       "(240, 4)"
      ]
     },
     "execution_count": 44,
     "metadata": {},
     "output_type": "execute_result"
    }
   ],
   "source": [
    "long_values = pd.DataFrame(columns=['num_neighbors', 'model_type', 'distance', 'ATT value'])\n",
    "for model_type in ['baseline', 'model_t', 'model_y', 'model_y_model_t']:\n",
    "    for distance in ['euclidean', 'mahalanobis']:\n",
    "        long_values = pd.concat([long_values, \n",
    "                                 pd.DataFrame({'num_neighbors':joint_values.k, \n",
    "                                               'model_type':model_type, \n",
    "                                               'distance':distance, \n",
    "                                               'ATT value':joint_values['_'.join([model_type, distance])]})])\n",
    "long_values.shape"
   ]
  },
  {
   "cell_type": "code",
   "execution_count": 50,
   "metadata": {},
   "outputs": [
    {
     "data": {
      "image/png": "[encoded data removed]",
      "text/plain": [
       "<Figure size 720x576 with 1 Axes>"
      ]
     },
     "metadata": {},
     "output_type": "display_data"
    }
   ],
   "source": [
    "plt.figure(figsize=(10, 8))\n",
    "ax = sns.lineplot(data=long_values, x='num_neighbors', y='ATT value', hue='model_type', style='distance')\n",
    "plt.hlines(0.2, 0, joint_values.k.max(), label=\"True ATT\")\n",
    "plt.hlines(IPW, 0, joint_values.k.max(), colors=['purple'], label=\"IPW\")\n",
    "plt.legend(bbox_to_anchor=(1.05, 1), loc=2, borderaxespad=0.)\n",
    "plt.savefig('../Paper/images/z_bias_additive_ATT_estimations_by_k_neighbors.jpg')\n",
    "plt.show()"
   ]
  },
  {
   "cell_type": "code",
   "execution_count": null,
   "metadata": {},
   "outputs": [],
   "source": []
  }
 ],
 "metadata": {
  "kernelspec": {
   "display_name": "Python 3",
   "language": "python",
   "name": "python3"
  },
  "language_info": {
   "codemirror_mode": {
    "name": "ipython",
    "version": 3
   },
   "file_extension": ".py",
   "mimetype": "text/x-python",
   "name": "python",
   "nbconvert_exporter": "python",
   "pygments_lexer": "ipython3",
   "version": "3.6.6"
  }
 },
 "nbformat": 4,
 "nbformat_minor": 2
}
